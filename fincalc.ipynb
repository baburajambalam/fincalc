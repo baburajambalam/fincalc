{
 "cells": [
  {
   "cell_type": "code",
   "execution_count": 1,
   "id": "53e34c35",
   "metadata": {},
   "outputs": [
    {
     "name": "stdout",
     "output_type": "stream",
     "text": [
      "Hello World!\n"
     ]
    }
   ],
   "source": [
    "print(\"Hello World!\")"
   ]
  },
  {
   "cell_type": "code",
   "execution_count": 2,
   "id": "ee9b9c49",
   "metadata": {},
   "outputs": [],
   "source": [
    "import ipywidgets as widgets\n"
   ]
  },
  {
   "cell_type": "code",
   "execution_count": 3,
   "id": "2186f9bb",
   "metadata": {},
   "outputs": [],
   "source": [
    "style = {'description_width': 'initial'}"
   ]
  },
  {
   "cell_type": "code",
   "execution_count": 4,
   "id": "061d1471",
   "metadata": {},
   "outputs": [
    {
     "data": {
      "application/vnd.jupyter.widget-view+json": {
       "model_id": "c8991009c2c44c3984baabc62bfbc54e",
       "version_major": 2,
       "version_minor": 0
      },
      "text/plain": [
       "HBox(children=(Label(value=' and will retire at age '), IntSlider(value=54, continuous_update=False, descripti…"
      ]
     },
     "metadata": {},
     "output_type": "display_data"
    }
   ],
   "source": [
    "l_retirement_age_head = widgets.Label(' and will retire at age ')\n",
    "w_retirement_age_nr = widgets.IntSlider(\n",
    "    value=54,\n",
    "    min=0,\n",
    "    max=90,\n",
    "    step=1,\n",
    "    description=':',\n",
    "    disabled=False,\n",
    "    continuous_update=False,\n",
    "    orientation='horizontal',\n",
    "    readout=True,\n",
    "    readout_format='d',\n",
    "    style=style\n",
    ")\n",
    "l_retirement_age_tail = widgets.Label('years')\n",
    "w_retirement_age = widgets.HBox([l_retirement_age_head, w_retirement_age_nr, l_retirement_age_tail])\n",
    "display(w_retirement_age)"
   ]
  },
  {
   "cell_type": "code",
   "execution_count": null,
   "id": "683de92a",
   "metadata": {},
   "outputs": [],
   "source": []
  }
 ],
 "metadata": {
  "kernelspec": {
   "display_name": "Python 3 (ipykernel)",
   "language": "python",
   "name": "python3"
  },
  "language_info": {
   "codemirror_mode": {
    "name": "ipython",
    "version": 3
   },
   "file_extension": ".py",
   "mimetype": "text/x-python",
   "name": "python",
   "nbconvert_exporter": "python",
   "pygments_lexer": "ipython3",
   "version": "3.7.15"
  }
 },
 "nbformat": 4,
 "nbformat_minor": 5
}
